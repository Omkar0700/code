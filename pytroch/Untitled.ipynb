{
 "cells": [
  {
   "cell_type": "code",
   "execution_count": 1,
   "id": "ccf9fafc",
   "metadata": {},
   "outputs": [
    {
     "name": "stdout",
     "output_type": "stream",
     "text": [
      "tensor([[0.0000],\n",
      "        [0.0200],\n",
      "        [0.0400],\n",
      "        [0.0600],\n",
      "        [0.0800],\n",
      "        [0.1000],\n",
      "        [0.1200],\n",
      "        [0.1400],\n",
      "        [0.1600],\n",
      "        [0.1800]]) tensor([[0.3000],\n",
      "        [0.3140],\n",
      "        [0.3280],\n",
      "        [0.3420],\n",
      "        [0.3560],\n",
      "        [0.3700],\n",
      "        [0.3840],\n",
      "        [0.3980],\n",
      "        [0.4120],\n",
      "        [0.4260]])\n"
     ]
    },
    {
     "name": "stderr",
     "output_type": "stream",
     "text": [
      "C:\\Users\\LENOVO\\AppData\\Local\\Temp\\ipykernel_21908\\1277022506.py:10: UserWarning: Failed to initialize NumPy: module compiled against API version 0x10 but this version of numpy is 0xf (Triggered internally at  ..\\torch\\csrc\\utils\\tensor_numpy.cpp:68.)\n",
      "  X=torch.arange(start,end,step).unsqueeze(dim=1)# unsequeeze is used to add extra diminsion\n"
     ]
    }
   ],
   "source": [
    "import torch\n",
    "import numpy as np\n",
    "from torch import nn\n",
    "import matplotlib.pyplot as plt\n",
    "weigth=0.7\n",
    "bias=0.3\n",
    "start=0\n",
    "end=1\n",
    "step=0.02\n",
    "X=torch.arange(start,end,step).unsqueeze(dim=1)# unsequeeze is used to add extra diminsion \n",
    "Y=weigth*X+bias\n",
    "print(X[:10],Y[:10])\n",
    "train_split=int(0.8*len(X))\n",
    "X_train,Y_train=X[:train_split],Y[:train_split]\n",
    "X_test,Y_test=X[train_split:],Y[train_split:]"
   ]
  },
  {
   "cell_type": "code",
   "execution_count": 2,
   "id": "4beb9998",
   "metadata": {},
   "outputs": [
    {
     "data": {
      "text/plain": [
       "(40, 10)"
      ]
     },
     "execution_count": 2,
     "metadata": {},
     "output_type": "execute_result"
    }
   ],
   "source": [
    "len(X_train),len(X_test)"
   ]
  },
  {
   "cell_type": "code",
   "execution_count": 6,
   "id": "0cb0f04f",
   "metadata": {},
   "outputs": [],
   "source": [
    "def plot(train_data=X_train,train_labels=Y_train,test_data=X_test,test_labels=Y_test,predictions=None):\n",
    "    plt.figure(figsize=(10,7))\n",
    "    plt.scatter(train_data,train_labels,c=\"b\",s=4,label=\"Training data\")\n",
    "    plt.scatter(test_data,test_labels,c=\"b\",s=4,label=\"Testing data\")\n",
    "    if predictions is not None:\n",
    "        plt.scatter(test_data,predictions,c=\"r\",s=4,label=\"Prediciton\")\n",
    "    plt.legend(prop={\"size\":14})\n",
    "        "
   ]
  },
  {
   "cell_type": "code",
   "execution_count": 67,
   "id": "aff922b7",
   "metadata": {},
   "outputs": [],
   "source": [
    "class linearRegression(nn.Module):\n",
    "    def __init__(self):\n",
    "        super().__init__()\n",
    "        self.weights=nn.Parameter(torch.randn(1,requires_grad=True,dtype=torch.float))\n",
    "        self.bias=nn.Parameter(torch.randn(1,requires_grad=True,dtype=torch.float))\n",
    "    def forward(self,x:torch.Tensor)->torch.Tensor:\n",
    "        return self.weights * x + self.bias\n",
    "        \n",
    "        "
   ]
  },
  {
   "cell_type": "code",
   "execution_count": 68,
   "id": "11a5506b",
   "metadata": {},
   "outputs": [],
   "source": [
    "model_0=linearRegression()"
   ]
  },
  {
   "cell_type": "code",
   "execution_count": 9,
   "id": "4bbdd0f3",
   "metadata": {},
   "outputs": [
    {
     "data": {
      "text/plain": [
       "tensor([[2.1461],\n",
       "        [2.1597],\n",
       "        [2.1733],\n",
       "        [2.1869],\n",
       "        [2.2005],\n",
       "        [2.2142],\n",
       "        [2.2278],\n",
       "        [2.2414],\n",
       "        [2.2550],\n",
       "        [2.2686]])"
      ]
     },
     "execution_count": 9,
     "metadata": {},
     "output_type": "execute_result"
    }
   ],
   "source": [
    "with torch.inference_mode():\n",
    "    y_preds=model_0(X_test)\n",
    "y_preds\n",
    "    "
   ]
  },
  {
   "cell_type": "code",
   "execution_count": 11,
   "id": "228d7e06",
   "metadata": {},
   "outputs": [
    {
     "data": {
      "text/plain": [
       "tensor([[2.1461],\n",
       "        [2.1597],\n",
       "        [2.1733],\n",
       "        [2.1869],\n",
       "        [2.2005],\n",
       "        [2.2142],\n",
       "        [2.2278],\n",
       "        [2.2414],\n",
       "        [2.2550],\n",
       "        [2.2686]], grad_fn=<AddBackward0>)"
      ]
     },
     "execution_count": 11,
     "metadata": {},
     "output_type": "execute_result"
    }
   ],
   "source": [
    "y_preds=model_0(X_test)\n",
    "y_preds"
   ]
  },
  {
   "cell_type": "code",
   "execution_count": 69,
   "id": "f23e9388",
   "metadata": {},
   "outputs": [],
   "source": [
    "loss_fn=nn.L1Loss()\n",
    "optimizer=torch.optim.SGD(params=model_0.parameters(),lr=0.01)"
   ]
  },
  {
   "cell_type": "code",
   "execution_count": 71,
   "id": "6c498c47",
   "metadata": {},
   "outputs": [
    {
     "name": "stdout",
     "output_type": "stream",
     "text": [
      "0.024110013619065285\n",
      "epoch:0 | loss:0.024110013619065285 | test loss :0.05536102131009102\n",
      "OrderedDict([('weights', tensor([0.5818])), ('bias', tensor([0.3498]))])\n",
      "0.020677709951996803\n",
      "epoch:10 | loss:0.020677709951996803 | test loss :0.04777535796165466\n",
      "OrderedDict([('weights', tensor([0.5988])), ('bias', tensor([0.3423]))])\n",
      "0.017245199531316757\n",
      "epoch:20 | loss:0.017245199531316757 | test loss :0.0395028181374073\n",
      "OrderedDict([('weights', tensor([0.6159])), ('bias', tensor([0.3353]))])\n",
      "0.013806397095322609\n",
      "epoch:30 | loss:0.013806397095322609 | test loss :0.031230276450514793\n",
      "OrderedDict([('weights', tensor([0.6331])), ('bias', tensor([0.3283]))])\n",
      "0.010375778190791607\n",
      "epoch:40 | loss:0.010375778190791607 | test loss :0.023644620552659035\n",
      "OrderedDict([('weights', tensor([0.6501])), ('bias', tensor([0.3208]))])\n",
      "0.006941580679267645\n",
      "epoch:50 | loss:0.006941580679267645 | test loss :0.0153720797970891\n",
      "OrderedDict([('weights', tensor([0.6672])), ('bias', tensor([0.3138]))])\n",
      "0.0035027749836444855\n",
      "epoch:60 | loss:0.0035027749836444855 | test loss :0.007099539041519165\n",
      "OrderedDict([('weights', tensor([0.6844])), ('bias', tensor([0.3068]))])\n",
      "0.0025885067880153656\n",
      "epoch:70 | loss:0.0025885067880153656 | test loss :0.008447891101241112\n",
      "OrderedDict([('weights', tensor([0.6990])), ('bias', tensor([0.3093]))])\n",
      "0.0025885067880153656\n",
      "epoch:80 | loss:0.0025885067880153656 | test loss :0.008447891101241112\n",
      "OrderedDict([('weights', tensor([0.6990])), ('bias', tensor([0.3093]))])\n",
      "0.0025885067880153656\n",
      "epoch:90 | loss:0.0025885067880153656 | test loss :0.008447891101241112\n",
      "OrderedDict([('weights', tensor([0.6990])), ('bias', tensor([0.3093]))])\n",
      "0.0025885067880153656\n",
      "epoch:100 | loss:0.0025885067880153656 | test loss :0.008447891101241112\n",
      "OrderedDict([('weights', tensor([0.6990])), ('bias', tensor([0.3093]))])\n"
     ]
    }
   ],
   "source": [
    "torch.manual_seed(42)\n",
    "epoch_count=[]\n",
    "loss_values=[]\n",
    "test_loss_values=[]\n",
    "epochs=100\n",
    "for epoch in range(epochs+1):\n",
    "    model_0.train()\n",
    "    y_pred=model_0(X_train)\n",
    "    loss=loss_fn(y_pred,Y_train)\n",
    "    optimizer.zero_grad()\n",
    "    loss.backward()\n",
    "    optimizer.step()\n",
    "    model_0.eval()\n",
    "    with torch.inference_mode():\n",
    "        test_pred=model_0(X_test)\n",
    "        test_loss=loss_fn(test_pred,Y_test)\n",
    "    if epoch % 10 == 0:\n",
    "        epoch_count.append(epoch)\n",
    "        loss_values.append(loss)\n",
    "        test_loss_values.append(test_loss)\n",
    "        print(f\"{loss}\")\n",
    "        print(f\"epoch:{epoch} | loss:{loss} | test loss :{test_loss}\")\n",
    "        print(model_0.state_dict())"
   ]
  },
  {
   "cell_type": "code",
   "execution_count": null,
   "id": "e27ebbae",
   "metadata": {},
   "outputs": [],
   "source": []
  },
  {
   "cell_type": "code",
   "execution_count": null,
   "id": "a51066d7",
   "metadata": {},
   "outputs": [],
   "source": []
  }
 ],
 "metadata": {
  "kernelspec": {
   "display_name": "Python 3 (ipykernel)",
   "language": "python",
   "name": "python3"
  },
  "language_info": {
   "codemirror_mode": {
    "name": "ipython",
    "version": 3
   },
   "file_extension": ".py",
   "mimetype": "text/x-python",
   "name": "python",
   "nbconvert_exporter": "python",
   "pygments_lexer": "ipython3",
   "version": "3.10.2"
  }
 },
 "nbformat": 4,
 "nbformat_minor": 5
}
